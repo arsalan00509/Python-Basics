{
  "nbformat": 4,
  "nbformat_minor": 0,
  "metadata": {
    "colab": {
      "provenance": []
    },
    "kernelspec": {
      "name": "python3",
      "display_name": "Python 3"
    },
    "language_info": {
      "name": "python"
    }
  },
  "cells": [
    {
      "cell_type": "markdown",
      "source": [
        "# PYTHON BASICS"
      ],
      "metadata": {
        "id": "zMR54itg4h-g"
      }
    },
    {
      "cell_type": "markdown",
      "source": [
        "# THEORY QUESTIONS:"
      ],
      "metadata": {
        "id": "D8RN6hOqETD7"
      }
    },
    {
      "cell_type": "markdown",
      "source": [
        "1- What is Python, and why is it popular?\n",
        "\n",
        "- Python is a high-level, interpreted programming language known for its simple and readable syntax. It is popular due to:\n",
        "\t•\tEase of Learning: Its syntax is similar to English, making it beginner-friendly.\n",
        "\t•\tVersatility: Supports web development, data analysis, AI, machine learning, and automation.\n",
        "\t•\tLarge Community and Libraries: Libraries like NumPy, Pandas, TensorFlow, and Django enhance its capabilities.\n",
        "\t•\tCross-Platform: Python is platform-independent and works on multiple operating systems.\n",
        "\n",
        "2- What is an interpreter in Python?\n",
        "\n",
        "- An interpreter is a program that reads and executes Python code line by line. Python uses its interpreter (e.g., CPython) to convert code into machine-readable instructions. Unlike a compiler, which processes code all at once, interpreters execute directly, making debugging easier.\n",
        "\n",
        "3- What are pre-defined keywords in Python?\n",
        "\n",
        "- Python has keywords that are reserved words with specific meanings. They cannot be used as variable names. Examples include if, else, while, for, def, class, and import. You can check all keywords using the keyword module.\n",
        "\n",
        "4- Can keywords be used as variable names?\n",
        "\n",
        "- No, keywords cannot be used as variable names because they are reserved for Python’s internal operations. Using them would lead to a SyntaxError.\n",
        "\n",
        "5- What is mutability in Python?\n",
        "\n",
        "- Mutability refers to an object’s ability to change its state or contents.\n",
        "\t•\tMutable objects can be changed after creation, e.g., lists, dictionaries, sets.\n",
        "\t•\tImmutable objects cannot be changed, e.g., strings, tuples, integers, and floats.\n",
        "\n",
        "6- Why are lists mutable, but tuples are immutable?\n",
        "\n",
        "- Lists are mutable because they are designed for dynamic operations like insertion, deletion, or modification.\n",
        "\t•\tTuples are immutable for data integrity and optimized memory usage, making them faster and ideal for fixed data.\n",
        "\n",
        "7- What is the difference between == and is operators in Python?\n",
        "\n",
        "-\t== checks value equality (whether two objects have the same value).\n",
        "\t•\tis checks identity equality (whether two objects occupy the same memory location).\n",
        "8- What are logical operators in Python?\n",
        "\n",
        "- Python has three logical operators:\n",
        "\t•\tand: Returns True if both statements are true.\n",
        "\t•\tor: Returns True if at least one statement is true.\n",
        "\t•\tnot: Reverses the result, returning False if the statement is true.\n",
        "9- What is type casting in Python?\n",
        "\n",
        "- Type casting is converting one data type to another using functions like int(), float(), str(), or bool().\n",
        "\n",
        "10- What is the difference between implicit and explicit type casting?\n",
        "- •\tImplicit Type Casting: Performed by Python automatically when there is no risk of data loss.\n",
        "•\tExplicit Type Casting: Done manually using functions like int(), float(), or str().\n",
        "\n",
        "11- What is the purpose of conditional statements in Python?\n",
        "\n",
        "- Conditional statements (like if, elif, and else) are used to execute different blocks of code based on specified conditions. They provide decision-making ability to a program.\n",
        "\n",
        "12- How does the elif statement work?\n",
        "\n",
        "- The elif statement is short for “else if”. It checks additional conditions when the initial if statement is false.\n",
        "\n",
        "13- What is the difference between for and while loops?\n",
        "\n",
        "- •\tFor Loop: Used for iterating over a sequence like a list, tuple, or string.\n",
        "\t•\tWhile Loop: Used when the number of iterations is unknown and depends on a condition.\n",
        "\n",
        "14- Describe a scenario where a while loop is more suitable than a for loop.\n",
        "\n",
        "- A while loop is better when the end condition is not fixed or known in advance.\n",
        "Example: Keep asking the user for input until they enter a valid password.  "
      ],
      "metadata": {
        "id": "tlVKIv4O401F"
      }
    },
    {
      "cell_type": "markdown",
      "source": [
        "# PRACTICAL QUESTIONS:\n",
        "\n",
        "\n"
      ],
      "metadata": {
        "id": "ddVxP11oEFAb"
      }
    },
    {
      "cell_type": "code",
      "source": [
        "# Write a Python program to print \"Hello, World!\"\n",
        "print(\"Hello, World!\")"
      ],
      "metadata": {
        "colab": {
          "base_uri": "https://localhost:8080/"
        },
        "id": "mvJZxLEXFmHs",
        "outputId": "c159306e-c36d-42d4-8db7-21ead58b07bf"
      },
      "execution_count": 41,
      "outputs": [
        {
          "output_type": "stream",
          "name": "stdout",
          "text": [
            "Hello, World!\n"
          ]
        }
      ]
    },
    {
      "cell_type": "code",
      "source": [
        "# Write a Python program that displays your name and age.\n",
        "name = \"Arsalan\"\n",
        "age = 25\n",
        "print(\"Name:\", name)\n",
        "print(\"Age:\", age)"
      ],
      "metadata": {
        "colab": {
          "base_uri": "https://localhost:8080/"
        },
        "id": "SO899XOS8zjd",
        "outputId": "7017e7db-387e-40cb-d963-ac2d842fe8cc"
      },
      "execution_count": 16,
      "outputs": [
        {
          "output_type": "stream",
          "name": "stdout",
          "text": [
            "Name: Arsalan\n",
            "Age: 25\n"
          ]
        }
      ]
    },
    {
      "cell_type": "code",
      "source": [
        "# Write code to print all the pre-defined keywords in Python using the keyword library.\n",
        "import keyword\n",
        "print(keyword.kwlist)"
      ],
      "metadata": {
        "colab": {
          "base_uri": "https://localhost:8080/"
        },
        "id": "fxzsG8li854U",
        "outputId": "b96ac46a-6cfa-413a-f9bc-3fd2a3893181"
      },
      "execution_count": 17,
      "outputs": [
        {
          "output_type": "stream",
          "name": "stdout",
          "text": [
            "['False', 'None', 'True', 'and', 'as', 'assert', 'async', 'await', 'break', 'class', 'continue', 'def', 'del', 'elif', 'else', 'except', 'finally', 'for', 'from', 'global', 'if', 'import', 'in', 'is', 'lambda', 'nonlocal', 'not', 'or', 'pass', 'raise', 'return', 'try', 'while', 'with', 'yield']\n"
          ]
        }
      ]
    },
    {
      "cell_type": "code",
      "source": [
        "# Write a program that checks if a given word is a Python keyword.\n",
        "import keyword\n",
        "\n",
        "word = input(\"Enter a word: \")\n",
        "if keyword.iskeyword(word):\n",
        "    print(f\"'{word}' is a Python keyword.\")\n",
        "else:\n",
        "    print(f\"'{word}' is not a Python keyword.\")"
      ],
      "metadata": {
        "colab": {
          "base_uri": "https://localhost:8080/"
        },
        "id": "tpi4v2iq87J8",
        "outputId": "0ad0fd98-7f1f-4468-8754-2a9114052e85"
      },
      "execution_count": 19,
      "outputs": [
        {
          "output_type": "stream",
          "name": "stdout",
          "text": [
            "Enter a word: no\n",
            "'no' is not a Python keyword.\n"
          ]
        }
      ]
    },
    {
      "cell_type": "code",
      "source": [
        "# Create a list and tuple in Python, and demonstrate how attempting to change an element works differently for each.\n",
        "# List (Mutable)\n",
        "my_list = [1, 2, 3]\n",
        "print(\"Original List:\", my_list)\n",
        "my_list[1] = 200\n",
        "print(\"Modified List:\", my_list)\n",
        "\n",
        "# Tuple (Immutable)\n",
        "my_tuple = (1, 2, 3)\n",
        "print(\"Original Tuple:\", my_tuple)\n",
        "my_tuple[1]=200\n",
        "print(\"Modified List:\",my_tuple)\n",
        "#tuple is immutable."
      ],
      "metadata": {
        "colab": {
          "base_uri": "https://localhost:8080/",
          "height": 263
        },
        "id": "kFkuDaet89uT",
        "outputId": "c9bd9ee8-6d74-45d9-a328-94bc5b1977ee"
      },
      "execution_count": 24,
      "outputs": [
        {
          "output_type": "stream",
          "name": "stdout",
          "text": [
            "Original List: [1, 2, 3]\n",
            "Modified List: [1, 200, 3]\n",
            "Original Tuple: (1, 2, 3)\n"
          ]
        },
        {
          "output_type": "error",
          "ename": "TypeError",
          "evalue": "'tuple' object does not support item assignment",
          "traceback": [
            "\u001b[0;31m---------------------------------------------------------------------------\u001b[0m",
            "\u001b[0;31mTypeError\u001b[0m                                 Traceback (most recent call last)",
            "\u001b[0;32m<ipython-input-24-5e394dd9ea48>\u001b[0m in \u001b[0;36m<cell line: 0>\u001b[0;34m()\u001b[0m\n\u001b[1;32m      9\u001b[0m \u001b[0mmy_tuple\u001b[0m \u001b[0;34m=\u001b[0m \u001b[0;34m(\u001b[0m\u001b[0;36m1\u001b[0m\u001b[0;34m,\u001b[0m \u001b[0;36m2\u001b[0m\u001b[0;34m,\u001b[0m \u001b[0;36m3\u001b[0m\u001b[0;34m)\u001b[0m\u001b[0;34m\u001b[0m\u001b[0;34m\u001b[0m\u001b[0m\n\u001b[1;32m     10\u001b[0m \u001b[0mprint\u001b[0m\u001b[0;34m(\u001b[0m\u001b[0;34m\"Original Tuple:\"\u001b[0m\u001b[0;34m,\u001b[0m \u001b[0mmy_tuple\u001b[0m\u001b[0;34m)\u001b[0m\u001b[0;34m\u001b[0m\u001b[0;34m\u001b[0m\u001b[0m\n\u001b[0;32m---> 11\u001b[0;31m \u001b[0mmy_tuple\u001b[0m\u001b[0;34m[\u001b[0m\u001b[0;36m1\u001b[0m\u001b[0;34m]\u001b[0m\u001b[0;34m=\u001b[0m\u001b[0;36m200\u001b[0m\u001b[0;34m\u001b[0m\u001b[0;34m\u001b[0m\u001b[0m\n\u001b[0m\u001b[1;32m     12\u001b[0m \u001b[0mprint\u001b[0m\u001b[0;34m(\u001b[0m\u001b[0;34m\"Modified List:\"\u001b[0m\u001b[0;34m,\u001b[0m\u001b[0mmy_tuple\u001b[0m\u001b[0;34m)\u001b[0m\u001b[0;34m\u001b[0m\u001b[0;34m\u001b[0m\u001b[0m\n\u001b[1;32m     13\u001b[0m \u001b[0;31m#tuple is immutable.\u001b[0m\u001b[0;34m\u001b[0m\u001b[0;34m\u001b[0m\u001b[0m\n",
            "\u001b[0;31mTypeError\u001b[0m: 'tuple' object does not support item assignment"
          ]
        }
      ]
    },
    {
      "cell_type": "code",
      "source": [
        "# Write a function to demonstrate the behavior of mutable and immutable arguments.\n",
        "def modify_list(my_list):\n",
        "    my_list.append(100)\n",
        "    print(\"Inside function (mutable):\", my_list)\n",
        "\n",
        "def modify_string(my_string):\n",
        "    my_string += \" World\"\n",
        "    print(\"Inside function (immutable):\", my_string)\n",
        "\n",
        "# Example\n",
        "lst = [1, 2, 3]\n",
        "modify_list(lst)\n",
        "print(\"Outside function (mutable):\", lst)\n",
        "\n",
        "string = \"Hello\"\n",
        "modify_string(string)\n",
        "print(\"Outside function (immutable):\", string)"
      ],
      "metadata": {
        "colab": {
          "base_uri": "https://localhost:8080/"
        },
        "id": "SAx7Xsin8_KE",
        "outputId": "0e232d78-a5ee-441f-ef4e-0d039c9c7f98"
      },
      "execution_count": 28,
      "outputs": [
        {
          "output_type": "stream",
          "name": "stdout",
          "text": [
            "Inside function (mutable): [1, 2, 3, 100]\n",
            "Outside function (mutable): [1, 2, 3, 100]\n",
            "Inside function (immutable): Hello World\n",
            "Outside function (immutable): Hello\n"
          ]
        }
      ]
    },
    {
      "cell_type": "code",
      "source": [
        "# Write a program that performs basic arithmetic operations on two user-input numbers.\n",
        "a = float(input(\"Enter first number: \"))\n",
        "b = float(input(\"Enter second number: \"))\n",
        "\n",
        "print(\"Sum:\", a + b)\n",
        "print(\"Difference:\", a - b)\n",
        "print(\"Product:\", a * b)\n",
        "print(\"Quotient:\", a / b if b != 0 else \"Cannot divide by zero\")"
      ],
      "metadata": {
        "colab": {
          "base_uri": "https://localhost:8080/"
        },
        "id": "VjO1FaKZ9AfD",
        "outputId": "94e39815-7f2e-4c4e-bf5d-28669087df86"
      },
      "execution_count": 27,
      "outputs": [
        {
          "output_type": "stream",
          "name": "stdout",
          "text": [
            "Enter first number: 5\n",
            "Enter second number: 5\n",
            "Sum: 10.0\n",
            "Difference: 0.0\n",
            "Product: 25.0\n",
            "Quotient: 1.0\n"
          ]
        }
      ]
    },
    {
      "cell_type": "code",
      "source": [
        "# Write a program to demonstrate the use of logical operators.\n",
        "a = int(input(\"Enter first number: \"))\n",
        "b = int(input(\"Enter second number: \"))\n",
        "\n",
        "print(\"Both numbers are positive:\", a > 0 and b > 0)\n",
        "print(\"At least one number is positive:\", a > 0 or b > 0)\n",
        "print(\"First number is not positive:\", not (a > 0))"
      ],
      "metadata": {
        "colab": {
          "base_uri": "https://localhost:8080/"
        },
        "id": "ZItnOajBAvWL",
        "outputId": "f31ea8fd-9cab-4ecf-c74d-4ca4850271fa"
      },
      "execution_count": 29,
      "outputs": [
        {
          "output_type": "stream",
          "name": "stdout",
          "text": [
            "Enter first number: 3\n",
            "Enter second number: 4\n",
            "Both numbers are positive: True\n",
            "At least one number is positive: True\n",
            "First number is not positive: False\n"
          ]
        }
      ]
    },
    {
      "cell_type": "code",
      "source": [
        "# Write a Python program to convert user input from string to integer, float, and boolean types.\n",
        "user_input = input(\"Enter a value: \")\n",
        "\n",
        "print(\"As Integer:\", int(user_input))\n",
        "print(\"As Float:\", float(user_input))\n",
        "print(\"As Boolean:\", bool(user_input))\n"
      ],
      "metadata": {
        "colab": {
          "base_uri": "https://localhost:8080/"
        },
        "id": "0N4OXlDS9BTT",
        "outputId": "8f5cfaf3-e76d-43e5-95da-a4005ccb5559"
      },
      "execution_count": 32,
      "outputs": [
        {
          "output_type": "stream",
          "name": "stdout",
          "text": [
            "Enter a value: 5\n",
            "As Integer: 5\n",
            "As Float: 5.0\n",
            "As Boolean: True\n"
          ]
        }
      ]
    },
    {
      "cell_type": "code",
      "source": [
        "# Write code to demonstrate type casting with list elements.\n",
        "my_list = ['1', '2', '3', '4']\n",
        "int_list = list(map(int, my_list))\n",
        "print(\"Original List:\", my_list)\n",
        "print(\"Converted to Integers:\", int_list)"
      ],
      "metadata": {
        "colab": {
          "base_uri": "https://localhost:8080/"
        },
        "id": "kFD4X3vV9Bk7",
        "outputId": "6e0392d1-28f6-4605-8480-fc972be71b6d"
      },
      "execution_count": 33,
      "outputs": [
        {
          "output_type": "stream",
          "name": "stdout",
          "text": [
            "Original List: ['1', '2', '3', '4']\n",
            "Converted to Integers: [1, 2, 3, 4]\n"
          ]
        }
      ]
    },
    {
      "cell_type": "code",
      "source": [
        "# Write a program that checks if a number is positive, negative, or zero.\n",
        "num = float(input(\"Enter a number: \"))\n",
        "\n",
        "if num > 0:\n",
        "    print(\"Positive\")\n",
        "elif num < 0:\n",
        "    print(\"Negative\")\n",
        "else:\n",
        "    print(\"Zero\")"
      ],
      "metadata": {
        "colab": {
          "base_uri": "https://localhost:8080/"
        },
        "id": "ZDqp71wn9B4L",
        "outputId": "bfd5c71f-8bc4-4e27-dd61-1a1693255707"
      },
      "execution_count": 34,
      "outputs": [
        {
          "output_type": "stream",
          "name": "stdout",
          "text": [
            "Enter a number: 10\n",
            "Positive\n"
          ]
        }
      ]
    },
    {
      "cell_type": "code",
      "source": [
        "# Write a for loop to print numbers from 1 to 10.\n",
        "for i in range(1, 11):\n",
        "    print(i)"
      ],
      "metadata": {
        "colab": {
          "base_uri": "https://localhost:8080/"
        },
        "id": "kSENHwCj9CWr",
        "outputId": "6152f4b2-8df6-48bd-fd20-8569849f7284"
      },
      "execution_count": 35,
      "outputs": [
        {
          "output_type": "stream",
          "name": "stdout",
          "text": [
            "1\n",
            "2\n",
            "3\n",
            "4\n",
            "5\n",
            "6\n",
            "7\n",
            "8\n",
            "9\n",
            "10\n"
          ]
        }
      ]
    },
    {
      "cell_type": "code",
      "source": [
        "# Write a Python program to find the sum of all even numbers between 1 and 50.\n",
        "sum_even = sum(i for i in range(1, 51) if i % 2 == 0)\n",
        "print(\"Sum of even numbers between 1 and 50:\", sum_even)"
      ],
      "metadata": {
        "colab": {
          "base_uri": "https://localhost:8080/"
        },
        "id": "gEc08MBB9C1L",
        "outputId": "4fb135c9-d36b-408c-f781-88330e4e5455"
      },
      "execution_count": 36,
      "outputs": [
        {
          "output_type": "stream",
          "name": "stdout",
          "text": [
            "Sum of even numbers between 1 and 50: 650\n"
          ]
        }
      ]
    },
    {
      "cell_type": "code",
      "source": [
        "# Write a program to reverse a string using a while loop.\n",
        "string = input(\"Enter a string: \")\n",
        "reversed_string = \"\"\n",
        "index = len(string) - 1\n",
        "\n",
        "while index >= 0:\n",
        "    reversed_string += string[index]\n",
        "    index -= 1\n",
        "\n",
        "print(\"Reversed String:\", reversed_string)"
      ],
      "metadata": {
        "colab": {
          "base_uri": "https://localhost:8080/"
        },
        "id": "5W3kc2Yu9DPz",
        "outputId": "158d975c-aec5-4dc3-c86a-46537c51d5eb"
      },
      "execution_count": 38,
      "outputs": [
        {
          "output_type": "stream",
          "name": "stdout",
          "text": [
            "Enter a string: 5.2\n",
            "Reversed String: 2.5\n"
          ]
        }
      ]
    },
    {
      "cell_type": "code",
      "source": [
        "# Write a Python program to calculate the factorial of a number provided by the user using a while loop.\n",
        "num = int(input(\"Enter a number: \"))\n",
        "factorial = 1\n",
        "i = 1\n",
        "\n",
        "while i <= num:\n",
        "    factorial *= i\n",
        "    i += 1\n",
        "\n",
        "print(f\"Factorial of {num} is {factorial}\")"
      ],
      "metadata": {
        "colab": {
          "base_uri": "https://localhost:8080/"
        },
        "id": "Z-OD6da39HA7",
        "outputId": "f7c3a063-920e-4f91-970d-66aeeec1471a"
      },
      "execution_count": 39,
      "outputs": [
        {
          "output_type": "stream",
          "name": "stdout",
          "text": [
            "Enter a number: 5\n",
            "Factorial of 5 is 120\n"
          ]
        }
      ]
    },
    {
      "cell_type": "code",
      "source": [],
      "metadata": {
        "id": "l4_BYH_N9Hsk"
      },
      "execution_count": null,
      "outputs": []
    }
  ]
}